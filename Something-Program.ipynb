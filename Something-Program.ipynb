{
 "cells": [
  {
   "cell_type": "code",
   "execution_count": 5,
   "metadata": {},
   "outputs": [
    {
     "name": "stdin",
     "output_type": "stream",
     "text": [
      "Enter a name:  6\n",
      "Enter your age in years:  6\n"
     ]
    },
    {
     "name": "stdout",
     "output_type": "stream",
     "text": [
      "You are 6 and you are 6 years old.\n"
     ]
    }
   ],
   "source": [
    "name= input(\"Enter your name: \")\n",
    "age = input(\"Enter your age in years: \")\n",
    "\n",
    "try:\n",
    "    age = int(age)\n",
    "    print(\"You are \" + str(name) + \" and you are \" + str(age) + \" years old.\")\n",
    "except:\n",
    "    print(\"Enter an integer as your age\")\n",
    "    \n",
    "    \n"
   ]
  },
  {
   "cell_type": "code",
   "execution_count": null,
   "metadata": {},
   "outputs": [],
   "source": []
  }
 ],
 "metadata": {
  "kernelspec": {
   "display_name": "Python 3.7",
   "language": "python",
   "name": "python3"
  },
  "language_info": {
   "codemirror_mode": {
    "name": "ipython",
    "version": 3
   },
   "file_extension": ".py",
   "mimetype": "text/x-python",
   "name": "python",
   "nbconvert_exporter": "python",
   "pygments_lexer": "ipython3",
   "version": "3.7.0"
  }
 },
 "nbformat": 4,
 "nbformat_minor": 2
}
